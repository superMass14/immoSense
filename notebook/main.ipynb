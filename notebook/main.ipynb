{
 "cells": [
  {
   "cell_type": "markdown",
   "id": "a77f2026",
   "metadata": {},
   "source": [
    "# <span style=\"background:rgba(10, 73, 136, 0.66); border-radius: 15px; padding: 2px 15px; text_shadow: 2px 2px 5px black\"> **House sales prediction at Ames, Iowa**\n",
    "</span>\n",
    "\n",
    "The goal of this project is to predict the house sales according to seventy nine (79) features given in a dataset"
   ]
  },
  {
   "cell_type": "code",
   "execution_count": null,
   "id": "8966e907-8d87-4db8-a47c-ce64990c377c",
   "metadata": {},
   "outputs": [],
   "source": [
    "import pandas as pd # for data manipulation & cleaning\n",
    "import numpy as np # statistics and type handling\n",
    "from colorama import Fore, Style # colorize output"
   ]
  },
  {
   "cell_type": "markdown",
   "id": "c0dae6d6",
   "metadata": {},
   "source": [
    "## <span style=\"background:rgba(136, 134, 10, 0.49); border-radius: 15px; padding: 2px 15px; text_shadow: 2px 2px 5px black\"> I. Let's peek at the dataset\n",
    "</span>"
   ]
  },
  {
   "cell_type": "code",
   "execution_count": null,
   "id": "7a90eacd",
   "metadata": {},
   "outputs": [],
   "source": [
    "data = pd.read_csv(\"../data/train.csv\")\n",
    "data.head().style.highlight_null(color=\"red\")"
   ]
  },
  {
   "cell_type": "code",
   "execution_count": null,
   "id": "29bb03e1",
   "metadata": {},
   "outputs": [],
   "source": [
    "data.describe().style.highlight_max(\n",
    "                    color=\"green\"\n",
    "                    ).highlight_min(\n",
    "                    color=\"black\"\n",
    "                    )"
   ]
  },
  {
   "cell_type": "code",
   "execution_count": null,
   "id": "da15b0c5",
   "metadata": {},
   "outputs": [],
   "source": [
    "data.info()"
   ]
  },
  {
   "cell_type": "markdown",
   "id": "72cf7526",
   "metadata": {},
   "source": [
    "## <span style=\"background:rgba(136, 134, 10, 0.49); border-radius: 15px; padding: 2px 15px; text_shadow: 2px 2px 5px black\"> II. **Feature engineering + data cleaning**</span>"
   ]
  },
  {
   "cell_type": "code",
   "execution_count": null,
   "id": "2ef0ca45",
   "metadata": {},
   "outputs": [],
   "source": [
    "# relevant features we will use to train our model\n",
    "keyFactors = [\n",
    "        'Id',\n",
    "        'OverallQual',\n",
    "        'OverallCond',\n",
    "        'YearBuilt',\n",
    "        'YearRemodAdd',\n",
    "        'GrLivArea', \n",
    "        'TotalBsmtSF',\n",
    "        'LotArea',\n",
    "        'GarageArea',\n",
    "        'GarageCars',\n",
    "        'GarageYrBlt',\n",
    "        'GarageType',\n",
    "        'GarageFinish',\n",
    "        'FullBath', \n",
    "        'HalfBath',         \n",
    "        'BedroomAbvGr',    \n",
    "        'KitchenAbvGr',    \n",
    "        'KitchenQual',      \n",
    "        'ExterQual',        \n",
    "        'ExterCond',        \n",
    "        'BsmtCond',         \n",
    "        'HeatingQC',        \n",
    "        'Neighborhood',     \n",
    "        'MSZoning',         \n",
    "        'Fireplaces',       \n",
    "        'FireplaceQu',      \n",
    "        'WoodDeckSF',       \n",
    "        'OpenPorchSF',      \n",
    "        'Foundation',       \n",
    "        'CentralAir',       \n",
    "        'SaleType',\n",
    "        'SaleCondition',\n",
    "        'MiscFeature',        \n",
    "        # target \n",
    "        'SalePrice'\n",
    "\n",
    "]"
   ]
  },
  {
   "cell_type": "code",
   "execution_count": null,
   "id": "f7e379a5",
   "metadata": {},
   "outputs": [],
   "source": [
    "df = data.copy()[keyFactors]\n",
    "df.set_index(\"Id\", inplace=True)\n",
    "df.head().style.highlight_null(color=\"red\").format(na_rep=\"⚠️missing\")"
   ]
  },
  {
   "cell_type": "markdown",
   "id": "cd98af60",
   "metadata": {},
   "source": [
    "#### **a. Let's add some features !**\n",
    "we have some redundants `features` storing the same values and sharing the same information. Those columns can be merged by selected the second column."
   ]
  },
  {
   "cell_type": "code",
   "execution_count": null,
   "id": "9c9526c4",
   "metadata": {},
   "outputs": [],
   "source": [
    "data[['Exterior1st', 'Exterior2nd', 'Condition1', 'Condition2']]"
   ]
  },
  {
   "cell_type": "code",
   "execution_count": null,
   "id": "8260d046",
   "metadata": {},
   "outputs": [],
   "source": [
    "df.loc[:,'Exterior'] = data['Exterior2nd'].values\n",
    "df.loc[:,'Condition'] = data['Condition2'].values"
   ]
  },
  {
   "cell_type": "markdown",
   "id": "bd232564",
   "metadata": {},
   "source": [
    "We can also add the house's `lifespan` from the build year till the purchase"
   ]
  },
  {
   "cell_type": "code",
   "execution_count": null,
   "id": "61392b44",
   "metadata": {},
   "outputs": [],
   "source": [
    "df[\"Lifespan\"] = np.int64(data[\"YrSold\"] - data[\"YearBuilt\"])\n",
    "df.fillna({\"LifeSpan\": 0}, inplace=True) # there is no duration when the result is NA\n",
    "#####\n",
    "df = df[df.columns.sort_values()] # sorts the columns in alphabetic order\n",
    "df.tail(3).style.background_gradient(cmap=\"coolwarm\")"
   ]
  },
  {
   "cell_type": "markdown",
   "id": "a1f62c4c",
   "metadata": {},
   "source": [
    "#### **b. Data cleaning**"
   ]
  },
  {
   "cell_type": "code",
   "execution_count": null,
   "id": "89a5444a",
   "metadata": {},
   "outputs": [],
   "source": [
    "# removing duplicates and checking missing values\n",
    "df.drop_duplicates(inplace=True)\n",
    "a = df.isna().sum()\n",
    "a[a>0]"
   ]
  },
  {
   "cell_type": "markdown",
   "id": "85d261a0",
   "metadata": {},
   "source": [
    "samples having **NA** values means those features do not exist for that house. those values won't be dropped but will be replaced by `empty` if it is a text or `0` if it is numeric. Then they will encoded during the process."
   ]
  },
  {
   "cell_type": "code",
   "execution_count": null,
   "id": "250dccad",
   "metadata": {},
   "outputs": [],
   "source": [
    "# * fill_missing_valuesreplaces the NA with \"Empty\" or '0'\n",
    "def fill_missing_values(df: pd.DataFrame) -> pd.DataFrame:\n",
    "    temp = df.copy()\n",
    "    cols_with_empty_values = a[a>0].index\n",
    "    \n",
    "    for c in cols_with_empty_values:\n",
    "        if temp[c].dtype == \"O\":\n",
    "            temp[c] = temp[c].fillna(\"Empty\")\n",
    "        else:\n",
    "            temp[c] = temp[c].fillna(0)\n",
    "    return temp\n",
    "\n",
    "df = fill_missing_values(df)"
   ]
  },
  {
   "cell_type": "code",
   "execution_count": null,
   "id": "9d46f146",
   "metadata": {},
   "outputs": [],
   "source": [
    "# let's check values type for each sample\n",
    "def check(df: pd.DataFrame):\n",
    "    temp = df.dropna(axis=0)\n",
    "    print(Fore.LIGHTYELLOW_EX+\"start cheking ...\"+Style.BRIGHT+Style.RESET_ALL)\n",
    "    for col in temp.columns:\n",
    "        if temp[col].dtype == np.int64:\n",
    "            try:\n",
    "                np.int64(temp[col])\n",
    "            except Exception as e:\n",
    "                print(f\"'{col.capitalize()}' feature should have int64 type for all samples\")\n",
    "        elif temp[col].dtype == np.float64:\n",
    "            try:\n",
    "                np.float64(temp[col])\n",
    "            except Exception as e:\n",
    "                print(f\"'{col.capitalize()}' feature should have float64 type for all samples\")\n",
    "        else :\n",
    "            try:\n",
    "                np.object_(temp[col])\n",
    "            except Exception as e:\n",
    "                print(f\"'{col.capitalize()}' feature should have object type for all samples\")\n",
    "    print(Fore.GREEN + \"All columns are checked \"+ Style.BRIGHT+Style.RESET_ALL)\n",
    "\n",
    "check(df)\n",
    "print(f\"we have {df.shape[0]} samples and {df.shape[1]} features with the houses id set as index\")"
   ]
  },
  {
   "cell_type": "markdown",
   "id": "89d16138",
   "metadata": {},
   "source": [
    "let's repeat the sama data manipulation with the `test set`"
   ]
  },
  {
   "cell_type": "code",
   "execution_count": null,
   "id": "d3c414f3",
   "metadata": {},
   "outputs": [],
   "source": [
    "## importing data\n",
    "test_data = pd.read_csv(\"../data/test.csv\")\n",
    "df_test = test_data.copy()[keyFactors[:-1]]\n",
    "df_test.set_index(\"Id\", inplace=True)\n",
    "\n",
    "## feature engineering\n",
    "df_test.loc[:,'Exterior'] = test_data['Exterior2nd'].values\n",
    "df_test.loc[:,'Condition'] = test_data['Condition2'].values\n",
    "df_test.loc[:,\"Lifespan\"] = np.int64(test_data[\"YrSold\"] - test_data[\"YearBuilt\"])\n",
    "df_test.fillna({\"LifeSpan\": 0}, inplace=True) # there is no duration when the result is NA\n",
    "df_test = df_test[df_test.columns.sort_values()] # sorts the columns in alphabetic order\n",
    "\n",
    "# removing duplicates and checking missing values\n",
    "df_test.drop_duplicates(inplace=True)\n",
    "df_test = fill_missing_values(df_test)\n",
    "check(df_test)"
   ]
  },
  {
   "cell_type": "markdown",
   "id": "785b09c6",
   "metadata": {},
   "source": [
    "## <span style=\"background:rgba(136, 134, 10, 0.49); border-radius: 15px; padding: 2px 15px; text_shadow: 2px 2px 5px black\"> III. **Data exploration**</span>\n",
    "\n",
    "we will display the `insights` and highlight how the selected features are relevant for the sale price prediction.  \n",
    "Features are categorized into `nine(9) parts`:\n",
    "* **`General features`** : *'OverallQual'*, *'OverallCond'*, *'YearBuilt'*, *'YearRemodAdd'*\n",
    "\n",
    "* **`Surfaces`** : *GrLivArea*, *TotalBsmtSF*, *LotArea*  \n",
    "* **`Garage`** : *GarageArea*, *GarageCars*, *GarageYrBlt*, *GarageType*, *GarageFinish*  \n",
    "* **`Rooms and Bathrooms`** : *FullBath*, *HalfBath*, *BedroomAbvGr*, *KitchenAbvGr*  \n",
    "* **`Quality`** : *KitchenQual*, *ExterQual*, *ExterCond*, *BsmtCond*, *HeatingQC*  \n",
    "* **`Location`** : *Neighborhood*, *MSZoning*  \n",
    "* **`Additional Value Features`** : *Fireplaces*, *FireplaceQu*, *WoodDeckSF*, *OpenPorchSF*, *Foundation*, *CentralAir*  \n",
    "* **`Sales Variables`** : *SaleType*, *SaleCondition*, *MiscFeature*  \n",
    "* **`Created features`** : *Exterior*, *LifeSpan*, *Condition*  "
   ]
  },
  {
   "cell_type": "markdown",
   "id": "4648230f",
   "metadata": {},
   "source": [
    "## <span style=\"background:rgba(136, 134, 10, 0.49); border-radius: 15px; padding: 2px 15px; text_shadow: 2px 2px 5px black\"> **IV. Model Selection**</span>\n",
    "we baptized our model **`ImmoSense`**"
   ]
  },
  {
   "cell_type": "markdown",
   "id": "d3ba5e06",
   "metadata": {},
   "source": [
    "* first, let's cast our continuous or categorical data into dummy version (true or false state)"
   ]
  },
  {
   "cell_type": "code",
   "execution_count": null,
   "id": "59ad5581",
   "metadata": {},
   "outputs": [],
   "source": [
    "target = df.copy()[\"SalePrice\"]\n",
    "df.drop(\"SalePrice\", axis=1, inplace=True)\n",
    "dummy = pd.get_dummies(df)"
   ]
  },
  {
   "cell_type": "markdown",
   "id": "34a94516",
   "metadata": {},
   "source": [
    "* let's split it inton train and test set for traing purposes"
   ]
  },
  {
   "cell_type": "code",
   "execution_count": null,
   "id": "753bd5f0",
   "metadata": {},
   "outputs": [],
   "source": [
    "from sklearn.model_selection import train_test_split\n",
    "x_train, x_test,y_train, y_test = train_test_split(dummy, target ,test_size=0.2, shuffle=False)"
   ]
  },
  {
   "cell_type": "markdown",
   "id": "dbeb1e10",
   "metadata": {},
   "source": [
    "* let's pick the best model for our study case between:\n",
    "    * **Linear Regression**\n",
    "    * **SVR**\n",
    "    * **Ridge**\n",
    "    * **Nearest neighbors regression**\n",
    "    * **Decision trees**"
   ]
  },
  {
   "cell_type": "code",
   "execution_count": null,
   "id": "fede6699",
   "metadata": {},
   "outputs": [],
   "source": [
    "from sklearn.linear_model import LinearRegression, Ridge\n",
    "from sklearn.svm import SVR\n",
    "from sklearn.neighbors import KNeighborsRegressor\n",
    "from sklearn.tree import DecisionTreeRegressor\n",
    "models = {\n",
    "    \"Linear_regression\": LinearRegression(),\n",
    "    \"KNR\": KNeighborsRegressor(),\n",
    "    \"SVR\": SVR(kernel=\"linear\"),\n",
    "    \"Ridge\": Ridge(alpha=0.5),\n",
    "    \"Decision\": DecisionTreeRegressor()\n",
    "}    "
   ]
  },
  {
   "cell_type": "code",
   "execution_count": null,
   "id": "c624827e",
   "metadata": {},
   "outputs": [],
   "source": [
    "from sklearn.metrics import root_mean_squared_error, mean_absolute_error, r2_score\n",
    "def check_perf(model_list: dict, x_train, y_train, x_test, y_test) -> pd.DataFrame:\n",
    "    rmse_tab, mae_tab, r_2_tab, score_tab = [], [], [], []\n",
    "    \n",
    "    for mod in model_list.values():\n",
    "        mod.fit(x_train, y_train) # training thre model with training data\n",
    "        y_pred = mod.predict(x_test) # prediction with samples splitted for test\n",
    "        \n",
    "        ## --- some metrics to evaluate model's prediction\n",
    "        rmse_tab.append(round(root_mean_squared_error(y_test, y_pred),2)) \n",
    "        mae_tab.append(round(mean_absolute_error(y_test, y_pred), 2)) \n",
    "        r_2_tab.append(round(r2_score(y_test, y_pred),3))\n",
    "        score_tab.append(mod.score(x_train, y_train)) # training score\n",
    "        \n",
    "    return pd.DataFrame({\n",
    "                        \"RMSE\": rmse_tab,\n",
    "                        \"Mae\": mae_tab,\n",
    "                        \"R2\": r_2_tab,\n",
    "                        \"Scores\": score_tab\n",
    "                        }, index=model_list.keys())\n"
   ]
  },
  {
   "cell_type": "code",
   "execution_count": null,
   "id": "21916311",
   "metadata": {},
   "outputs": [],
   "source": [
    "check_perf(models, x_train, y_train, x_test, y_test).style.background_gradient(cmap=\"coolwarm\")"
   ]
  },
  {
   "cell_type": "markdown",
   "id": "411647a2",
   "metadata": {},
   "source": [
    "if we compare the metrics above we notice that the **`Ridge_regression model`** has a lower **`mean error`** with a quite acceptable **`training score`**.   \n",
    "So **`ImmoSense`** model will be : **`\"Ridge\"`**. for better result, let's choose the best parameter for **`ImmoSense`**"
   ]
  },
  {
   "cell_type": "code",
   "execution_count": null,
   "id": "3f805af2",
   "metadata": {},
   "outputs": [],
   "source": [
    "from sklearn.model_selection import GridSearchCV\n",
    "immoSense_test = Ridge()\n",
    "params = {\"alpha\": [0.1, 0.2, 0.3, 0.4, 0.5, 0.6, 0.7, 0.8, 0.9, 1.0]}\n",
    "gd = GridSearchCV(immoSense_test, param_grid=params, cv=5, n_jobs=-1, scoring=\"r2\")\n",
    "gd.fit(x_train, y_train)\n",
    "print(\"the best alpha parameter is \"+ Fore.YELLOW + f\"{gd.best_params_}\" +Style.BRIGHT+Style.RESET_ALL+ \" with a best score trianing score of \" + Fore.GREEN +f\"{gd.best_score_*100:.2f}%\" + Style.BRIGHT +Style.RESET_ALL)"
   ]
  },
  {
   "cell_type": "code",
   "execution_count": null,
   "id": "e7676ff0",
   "metadata": {},
   "outputs": [],
   "source": [
    "## Training ImmoSense model with best estimator and best params\n",
    "ImmoSense = Ridge(1.0)\n",
    "ImmoSense.fit(x_train, y_train)\n",
    "print(Fore.GREEN + \"ImmoSense well trained\"+ Style.DIM+Style.RESET_ALL)"
   ]
  },
  {
   "cell_type": "markdown",
   "id": "b8d4344f",
   "metadata": {},
   "source": [
    "* Let's peek at **feature's weigh**. This study will show us how each chosen feature **impacts** in the **model's precision**."
   ]
  },
  {
   "cell_type": "code",
   "execution_count": null,
   "id": "5f588fff-d636-41e2-b70c-ab5fe0c4a20a",
   "metadata": {},
   "outputs": [],
   "source": [
    "feat_imp = pd.DataFrame({\n",
    "    \"Features\": ImmoSense.feature_names_in_,\n",
    "    \"Coef\":np.abs(ImmoSense.coef_)\n",
    "})\n",
    "\n",
    "data_categories = { #? dummies features used for model training\n",
    "    \"General features\":['OverallCond', 'OverallQual','YearBuilt', 'YearRemodAdd' ],\n",
    "    \n",
    "    \"Surfaces\":[\"GrLivArea\", \"TotalBsmtSF\", \"LotArea\"],\n",
    "    \n",
    "    \"Garage\": ['GarageFinish_Empty','GarageFinish_Fin', 'GarageFinish_RFn', \n",
    "                'GarageFinish_Unf', 'GarageType_2Types', 'GarageType_Attchd',\n",
    "                'GarageType_Basment','GarageType_BuiltIn', 'GarageType_CarPort', \n",
    "                'GarageType_Detchd','GarageType_Empty'],\n",
    "    \n",
    "    \"Rooms and bathrooms\": ['FullBath','HalfBath','BedroomAbvGr', 'KitchenAbvGr'],\n",
    "    \n",
    "    \"Quality\": ['KitchenQual_Ex', 'KitchenQual_Fa', 'KitchenQual_Gd', 'KitchenQual_TA',\n",
    "                'ExterCond_Ex', 'ExterCond_Fa', 'ExterCond_Gd', 'ExterCond_Po',\n",
    "                'ExterCond_TA', 'ExterQual_Ex', 'ExterQual_Fa', 'ExterQual_Gd',\n",
    "                'ExterQual_TA', 'BsmtCond_Empty', 'BsmtCond_Fa',\n",
    "                'BsmtCond_Gd', 'BsmtCond_Po', 'BsmtCond_TA',\n",
    "                'HeatingQC_Ex', 'HeatingQC_Fa', 'HeatingQC_Gd',\n",
    "                'HeatingQC_Po', 'HeatingQC_TA'],\n",
    "    \n",
    "    \"Location\": ['Neighborhood_Blueste', 'Neighborhood_BrDale',\n",
    "                'Neighborhood_BrkSide', 'Neighborhood_ClearCr',\n",
    "                'Neighborhood_CollgCr', 'Neighborhood_Crawfor',\n",
    "                'Neighborhood_Edwards', 'Neighborhood_Gilbert',\n",
    "                'Neighborhood_IDOTRR', 'Neighborhood_MeadowV',\n",
    "                'Neighborhood_Mitchel', 'Neighborhood_NAmes',\n",
    "                'Neighborhood_NPkVill', 'Neighborhood_NWAmes',\n",
    "                'Neighborhood_NoRidge', 'Neighborhood_NridgHt',\n",
    "                'Neighborhood_OldTown', 'Neighborhood_SWISU',\n",
    "                'Neighborhood_Sawyer', 'Neighborhood_SawyerW',\n",
    "                'Neighborhood_Somerst', 'Neighborhood_StoneBr',\n",
    "                'Neighborhood_Timber', 'Neighborhood_Veenker',\n",
    "                'MSZoning_FV', 'MSZoning_RH', 'MSZoning_RL', 'MSZoning_RM'\n",
    "                ],\n",
    "    \n",
    "    \"Additional feature value\": ['Fireplaces', 'FireplaceQu_Empty',\n",
    "                                'FireplaceQu_Ex', 'FireplaceQu_Fa', 'FireplaceQu_Gd',\n",
    "                                'FireplaceQu_Po', 'FireplaceQu_TA', 'WoodDeckSF',\n",
    "                                'OpenPorchSF','Foundation_BrkTil','Foundation_CBlock',\n",
    "                                'Foundation_PConc', 'Foundation_Slab','Foundation_Stone', \n",
    "                                'Foundation_Wood', 'CentralAir_N', 'CentralAir_Y'\n",
    "                                ],\n",
    "    \n",
    "    \"Sales variable\": ['SaleCondition_Abnorml', 'SaleCondition_AdjLand',\n",
    "                        'SaleCondition_Alloca', 'SaleCondition_Family',\n",
    "                        'SaleCondition_Normal', 'SaleCondition_Partial', 'SaleType_COD',\n",
    "                        'SaleType_CWD', 'SaleType_Con', 'SaleType_ConLD', 'SaleType_ConLI',\n",
    "                        'SaleType_ConLw', 'SaleType_New', 'SaleType_Oth', 'SaleType_WD',\n",
    "                        'MiscFeature_Empty', 'MiscFeature_Gar2', 'MiscFeature_Othr',\n",
    "                        'MiscFeature_Shed', 'MiscFeature_TenC'],\n",
    "    \n",
    "    \"Created features\":['Exterior_AsbShng', 'Exterior_AsphShn',\n",
    "                        'Exterior_Brk Cmn', 'Exterior_BrkFace', 'Exterior_CBlock',\n",
    "                        'Exterior_CmentBd', 'Exterior_HdBoard', 'Exterior_ImStucc',\n",
    "                        'Exterior_MetalSd', 'Exterior_Other', 'Exterior_Plywood',\n",
    "                        'Exterior_Stone', 'Exterior_Stucco', 'Exterior_VinylSd',\n",
    "                        'Exterior_Wd Sdng', 'Exterior_Wd Shng', 'Condition_Artery', \n",
    "                        'Condition_Feedr','Condition_Norm', 'Condition_PosA', \n",
    "                        'Condition_PosN','Condition_RRAe', 'Condition_RRAn', \n",
    "                        'Condition_RRNn']\n",
    "}\n",
    "coef_sum_tab = []\n",
    "\n",
    "for categories_tab in data_categories.values():\n",
    "    coef_sum_tab.append(\n",
    "        feat_imp[feat_imp[\"Features\"].isin(categories_tab)][\"Coef\"].sum()\n",
    "    )\n",
    "    \n",
    "features_weigh = pd.DataFrame({\"Weigh\": np.int64(np.round(coef_sum_tab))}, index=data_categories.keys())\n",
    "features_weigh.sort_values(ascending=True, inplace=True, by=\"Weigh\")\n",
    "features_weigh.style.background_gradient(cmap=\"coolwarm\").format('{}$')"
   ]
  },
  {
   "cell_type": "markdown",
   "id": "c50874e4",
   "metadata": {},
   "source": [
    "Each coefficient represents the sample's increase effect (or decrease for negeative coefficients) on the target (SalePrice).  \n",
    "\n",
    "In our case if we take the `Rooms and bathrooms` category, we can say say that , in general, if each supplementary room or bathroom increases the house's price by **30,840$**. Same for the other categories.  \n",
    "\n",
    "What makes the features weigh study more relevant is that we notice how the features we created influences the sales price. In fact, the more material the house is built with our the better the condition is, the more sales price increases by **307,113$**"
   ]
  },
  {
   "cell_type": "markdown",
   "id": "ee6aecf6",
   "metadata": {},
   "source": [
    "## <span style=\"background:rgba(136, 134, 10, 0.49); border-radius: 15px; padding: 2px 15px; text_shadow: 2px 2px 5px black\"> **V. Final prediction**</span>\n",
    "let's predict prices with the test_set file and store it in `data/submission.csv`"
   ]
  },
  {
   "cell_type": "code",
   "execution_count": null,
   "id": "b144825f",
   "metadata": {},
   "outputs": [],
   "source": [
    "df_test.ffill(inplace=True) # handling some none relevant missing values\n",
    "dummy_test = pd.get_dummies(df_test)\n",
    "dummy_test = dummy_test.reindex(columns=dummy.columns, fill_value=0)\n",
    "prices = ImmoSense.predict(dummy_test)\n",
    "pd.DataFrame({\"SalePrice\": np.int64(prices)}, index=dummy_test.index).to_csv(\"../data/submission.csv\",sep=\",\",header=True)\n",
    "print(Fore.GREEN+\"Submission file generated successfully !\"+Style.BRIGHT+Style.RESET_ALL)"
   ]
  },
  {
   "cell_type": "code",
   "execution_count": null,
   "id": "c7f829af",
   "metadata": {},
   "outputs": [],
   "source": []
  }
 ],
 "metadata": {
  "kernelspec": {
   "display_name": "jarvis",
   "language": "python",
   "name": "python3"
  },
  "language_info": {
   "codemirror_mode": {
    "name": "ipython",
    "version": 3
   },
   "file_extension": ".py",
   "mimetype": "text/x-python",
   "name": "python",
   "nbconvert_exporter": "python",
   "pygments_lexer": "ipython3",
   "version": "3.12.9"
  }
 },
 "nbformat": 4,
 "nbformat_minor": 5
}
